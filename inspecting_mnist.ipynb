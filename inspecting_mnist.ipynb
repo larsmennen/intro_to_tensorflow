{
 "cells": [
  {
   "cell_type": "code",
   "execution_count": 1,
   "metadata": {},
   "outputs": [],
   "source": [
    "# First let's import the MNIST network structure\n",
    "import mnist"
   ]
  },
  {
   "cell_type": "code",
   "execution_count": 2,
   "metadata": {},
   "outputs": [
    {
     "name": "stdout",
     "output_type": "stream",
     "text": [
      "Builds the MNIST network.\n",
      "\n",
      "Implements the inference/loss/training pattern for model building.\n",
      "\n",
      "1. inference() - Builds the model as far as required for running the network\n",
      "forward to make predictions.\n",
      "2. loss() - Adds to the inference model the layers required to generate loss.\n",
      "3. training() - Adds to the loss model the Ops required to generate and\n",
      "apply gradients.\n",
      "\n",
      "This file is used by the various \"fully_connected_*.py\" files and not meant to\n",
      "be run.\n",
      "\n"
     ]
    }
   ],
   "source": [
    "# Let's see what the docs say:\n",
    "print(mnist.__doc__)"
   ]
  },
  {
   "cell_type": "code",
   "execution_count": 3,
   "metadata": {},
   "outputs": [
    {
     "name": "stdout",
     "output_type": "stream",
     "text": [
      "Build the MNIST model up to where it may be used for inference.\n",
      "\n",
      "  Args:\n",
      "    images: Images placeholder, from inputs().\n",
      "    hidden1_units: Size of the first hidden layer.\n",
      "    hidden2_units: Size of the second hidden layer.\n",
      "\n",
      "  Returns:\n",
      "    softmax_linear: Output tensor with the computed logits.\n",
      "  \n"
     ]
    }
   ],
   "source": [
    "print(mnist.inference.__doc__)"
   ]
  },
  {
   "cell_type": "code",
   "execution_count": 4,
   "metadata": {},
   "outputs": [
    {
     "name": "stdout",
     "output_type": "stream",
     "text": [
      "Tensor(\"Placeholder:0\", shape=(4, 784), dtype=float32)\n"
     ]
    }
   ],
   "source": [
    "# So we need a placeholder:\n",
    "import tensorflow as tf\n",
    "placeholder = tf.placeholder(tf.float32, shape=(4, mnist.IMAGE_PIXELS))\n",
    "print(placeholder)"
   ]
  },
  {
   "cell_type": "code",
   "execution_count": 5,
   "metadata": {},
   "outputs": [
    {
     "name": "stdout",
     "output_type": "stream",
     "text": [
      "Tensor(\"softmax_linear/add:0\", shape=(4, 10), dtype=float32)\n"
     ]
    }
   ],
   "source": [
    "# Let's construct a network with 128 hidden units in the first layer and 32 in the second\n",
    "network_output = mnist.inference(placeholder, 128, 32)\n",
    "print(network_output)"
   ]
  },
  {
   "cell_type": "code",
   "execution_count": 6,
   "metadata": {
    "collapsed": true
   },
   "outputs": [],
   "source": [
    "# Let's visualise what we just created using Tensorboard\n",
    "tf.summary.FileWriter(\"logs\", tf.get_default_graph()).close()"
   ]
  },
  {
   "cell_type": "code",
   "execution_count": 7,
   "metadata": {
    "collapsed": true
   },
   "outputs": [],
   "source": [
    "# Run 'tensorboard --logdir=logs' in a terminal, and go to the URL that it gives you"
   ]
  }
 ],
 "metadata": {
  "kernelspec": {
   "display_name": "Python [default]",
   "language": "python",
   "name": "python3"
  },
  "language_info": {
   "codemirror_mode": {
    "name": "ipython",
    "version": 3
   },
   "file_extension": ".py",
   "mimetype": "text/x-python",
   "name": "python",
   "nbconvert_exporter": "python",
   "pygments_lexer": "ipython3",
   "version": "3.6.1"
  }
 },
 "nbformat": 4,
 "nbformat_minor": 2
}
